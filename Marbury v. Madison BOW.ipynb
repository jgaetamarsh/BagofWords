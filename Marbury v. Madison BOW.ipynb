{
 "cells": [
  {
   "cell_type": "code",
   "execution_count": 1,
   "metadata": {},
   "outputs": [],
   "source": [
    "import re, nltk\n",
    "from nltk.corpus import stopwords\n",
    "from nltk.tokenize import word_tokenize\n",
    "from nltk.stem import WordNetLemmatizer"
   ]
  },
  {
   "cell_type": "code",
   "execution_count": 2,
   "metadata": {},
   "outputs": [],
   "source": [
    "from collections import Counter"
   ]
  },
  {
   "cell_type": "code",
   "execution_count": 3,
   "metadata": {},
   "outputs": [],
   "source": [
    "import re"
   ]
  },
  {
   "cell_type": "code",
   "execution_count": 4,
   "metadata": {},
   "outputs": [],
   "source": [
    "text = \"\"\"The clerks of the Department of State of the United States may be called upon to give evidence of transactions in the Department which are not of a confidential character.\n",
    "\n",
    "The Secretary of State cannot be called upon as a witness to state transactions of a confidential nature which may have occurred in his Department. But he may be called upon to give testimony of circumstances which were not of that character.\n",
    "\n",
    "Clerks in the Department of State were directed to be sworn, subject to objections to questions upon confidential matters.\n",
    "\n",
    "Some point of time must be taken when the power of the Executive over an officer, not removable at his will, must cease. That point of time must be when the constitutional power of appointment has been exercised. And the power has been exercised when the last act required from the person possessing the power has been performed. This last act is the signature of the commission.\n",
    "\n",
    "If the act of livery be necessary to give validity to the commission of an officer, it has been delivered when executed, and given to the Secretary of State for the purpose of being sealed, recorded, and transmitted to the party.\n",
    "\n",
    "In cases of commissions to public officers, the law orders the Secretary of State to record them. When, therefore, they are signed and sealed, the order for their being recorded is given, and, whether inserted inserted into the book or not, they are recorded.\n",
    "\n",
    "When the heads of the departments of the Government are the political or confidential officers of the Executive, merely to execute the will of the President, or rather to act in cases in which the Executive possesses a constitutional or legal discretion, nothing can be more perfectly clear than that their acts are only politically examinable. But where a specific duty is assigned by law, and individual rights depend upon the performance of that duty, it seems equally clear that the individual who considers himself injured has a right to resort to the laws of his country for a remedy.\n",
    "\n",
    "The President of the United States, by signing the commission, appointed Mr. Marbury a justice of the peace for the County of Washington, in the District of Columbia, and the seal of the United States, affixed thereto by the Secretary of State, is conclusive testimony of the verity of the signature, and of the completion of the appointment; and the appointment conferred on him a legal right to the office for the space of five years. Having this legal right to the office, he has a consequent right to the commission, a refusal to deliver which is a plain violation of that right for which the laws of the country afford him a remedy.\n",
    "\n",
    "To render a mandamus a proper remedy, the officer to whom it is directed must be one to whom, on legal principles, such writ must be directed, and the person applying for it must be without any other specific remedy.\n",
    "\n",
    "Where a commission to a public officer has been made out, signed, and sealed, and is withheld from the person entitled to it, an action of detinue for the commission against the Secretary of State who refuses to deliver it is not the proper remedy, as the judgment in detinue is for the thing itself, or its value. The value of a public office, not to be sold, is incapable of being ascertained. It is a plain case for a mandamus, either to deliver the commission or a copy of it from the record.\n",
    "\n",
    "To enable the Court to issue a mandamus to compel the delivery of the commission of a public office by the Secretary of State, it must be shown that it is an exercise of appellate jurisdiction, or that it be necessary to enable them to exercise appellate jurisdiction.\n",
    "\n",
    "It is the essential criterion of appellate jurisdiction that it revises and corrects the proceedings in a cause already instituted, and does not create the cause.\n",
    "\n",
    "The authority given to the Supreme Court by the act establishing the judicial system of the United States to issue writs of mandamus to public officers appears not to be warranted by the Constitution.\n",
    "\n",
    "It is emphatically the duty of the Judicial Department to say what the law is. Those who apply the rule to particular cases must, of necessity, expound and interpret the rule. If two laws conflict with each other, the Court must decide on the operation of each.\n",
    "\n",
    "If courts are to regard the Constitution, and the Constitution is superior to any ordinary act of the legislature, the Constitution, and not such ordinary act, must govern the case to which they both apply.\n",
    "\n",
    "At the December Term, 1801, William Marbury, Dennis Ramsay, Robert Townsend Hooe, and William Harper, by their counsel,\n",
    "\n",
    "Page 5 U. S. 138\n",
    "\n",
    "severally moved the court for a rule to James Madison, Secretary of State of the United States, to show cause why a mandamus should not issue commanding him to cause to be delivered to them respectively their several commissions as justices of the peace in the District of Columbia. This motion was supported by affidavits of the following facts: that notice of this motion had been given to Mr. Madison; that Mr. Adams, the late President of the United States, nominated the applicants to the Senate for their advice and consent to be appointed justices of the peace of the District of Columbia; that the Senate advised and consented to the appointments; that commissions in due form were signed by the said President appointing them justices, &c., and that the seal of the United States was in due form affixed to the said commissions by the Secretary of State; that the applicants have requested Mr. Madison to deliver them their said commissions, who has not complied with that request; and that their said commissions are withheld from them; that the applicants have made application to Mr. Madison as Secretary of State of the United States at his office, for information whether the commissions were signed and sealed as aforesaid; that explicit and satisfactory information has not been given in answer to that inquiry, either by the Secretary of State or any officer in the Department of State; that application has been made to the secretary of the Senate for a certificate of the nomination of the applicants, and of the advice and consent of the Senate, who has declined giving such a certificate; whereupon a rule was made to show cause on the fourth day of this term. This rule having been duly served,\n",
    "\n",
    "Page 5 U. S. 139\n",
    "\n",
    "Mr. Jacob Wagner and Mr. Daniel Brent, who had been summoned to attend the court and were required to give evidence, objected to be sworn, alleging that they were clerks in the Department of State, and not bound to disclose any facts relating to the business or transactions of the office.\n",
    "\n",
    "The court ordered the witnesses to be sworn, and their answers taken in writing, but informed them that, when the questions were asked, they might state their objections to answering each particular question, if they had any.\n",
    "\n",
    "Mr. Lincoln, who had been the acting Secretary of State, when the circumstances stated in the affidavits occurred, was called upon to give testimony. He objected to answering. The questions were put in writing.\n",
    "\n",
    "The court said there was nothing confidential required to be disclosed. If there had been, he was not obliged to answer it, and if he thought anything was communicated to him confidentially, he was not bound to disclose, nor was he obliged to state anything which would criminate himself.\n",
    "\n",
    "The questions argued by the counsel for the relators were, 1. Whether the Supreme Court can award the writ of mandamus in any case. 2. Whether it will lie to a Secretary of State, in any case whatever. 3. Whether, in the present case, the Court may award a mandamus to James Madison, Secretary of State.\n",
    "\n",
    "Page 5 U. S. 153\"\"\""
   ]
  },
  {
   "cell_type": "code",
   "execution_count": 5,
   "metadata": {},
   "outputs": [],
   "source": [
    "lower = text.lower()"
   ]
  },
  {
   "cell_type": "code",
   "execution_count": 6,
   "metadata": {},
   "outputs": [],
   "source": [
    "from nltk.corpus import stopwords\n",
    "stop_words = set(stopwords.words('english'))"
   ]
  },
  {
   "cell_type": "code",
   "execution_count": 7,
   "metadata": {},
   "outputs": [],
   "source": [
    "token = word_tokenize(lower)"
   ]
  },
  {
   "cell_type": "code",
   "execution_count": 8,
   "metadata": {},
   "outputs": [],
   "source": [
    "no_stops = [word for word in token if word not in stop_words]"
   ]
  },
  {
   "cell_type": "code",
   "execution_count": 9,
   "metadata": {},
   "outputs": [
    {
     "name": "stdout",
     "output_type": "stream",
     "text": [
      "['clerks', 'department', 'state', 'united', 'states', 'may', 'called', 'upon', 'give', 'evidence', 'transactions', 'department', 'confidential', 'character', '.', 'secretary', 'state', 'called', 'upon', 'witness', 'state', 'transactions', 'confidential', 'nature', 'may', 'occurred', 'department', '.', 'may', 'called', 'upon', 'give', 'testimony', 'circumstances', 'character', '.', 'clerks', 'department', 'state', 'directed', 'sworn', ',', 'subject', 'objections', 'questions', 'upon', 'confidential', 'matters', '.', 'point', 'time', 'must', 'taken', 'power', 'executive', 'officer', ',', 'removable', ',', 'must', 'cease', '.', 'point', 'time', 'must', 'constitutional', 'power', 'appointment', 'exercised', '.', 'power', 'exercised', 'last', 'act', 'required', 'person', 'possessing', 'power', 'performed', '.', 'last', 'act', 'signature', 'commission', '.', 'act', 'livery', 'necessary', 'give', 'validity', 'commission', 'officer', ',', 'delivered', 'executed', ',', 'given', 'secretary', 'state', 'purpose', 'sealed', ',', 'recorded', ',', 'transmitted', 'party', '.', 'cases', 'commissions', 'public', 'officers', ',', 'law', 'orders', 'secretary', 'state', 'record', '.', ',', 'therefore', ',', 'signed', 'sealed', ',', 'order', 'recorded', 'given', ',', ',', 'whether', 'inserted', 'inserted', 'book', ',', 'recorded', '.', 'heads', 'departments', 'government', 'political', 'confidential', 'officers', 'executive', ',', 'merely', 'execute', 'president', ',', 'rather', 'act', 'cases', 'executive', 'possesses', 'constitutional', 'legal', 'discretion', ',', 'nothing', 'perfectly', 'clear', 'acts', 'politically', 'examinable', '.', 'specific', 'duty', 'assigned', 'law', ',', 'individual', 'rights', 'depend', 'upon', 'performance', 'duty', ',', 'seems', 'equally', 'clear', 'individual', 'considers', 'injured', 'right', 'resort', 'laws', 'country', 'remedy', '.', 'president', 'united', 'states', ',', 'signing', 'commission', ',', 'appointed', 'mr.', 'marbury', 'justice', 'peace', 'county', 'washington', ',', 'district', 'columbia', ',', 'seal', 'united', 'states', ',', 'affixed', 'thereto', 'secretary', 'state', ',', 'conclusive', 'testimony', 'verity', 'signature', ',', 'completion', 'appointment', ';', 'appointment', 'conferred', 'legal', 'right', 'office', 'space', 'five', 'years', '.', 'legal', 'right', 'office', ',', 'consequent', 'right', 'commission', ',', 'refusal', 'deliver', 'plain', 'violation', 'right', 'laws', 'country', 'afford', 'remedy', '.', 'render', 'mandamus', 'proper', 'remedy', ',', 'officer', 'directed', 'must', 'one', ',', 'legal', 'principles', ',', 'writ', 'must', 'directed', ',', 'person', 'applying', 'must', 'without', 'specific', 'remedy', '.', 'commission', 'public', 'officer', 'made', ',', 'signed', ',', 'sealed', ',', 'withheld', 'person', 'entitled', ',', 'action', 'detinue', 'commission', 'secretary', 'state', 'refuses', 'deliver', 'proper', 'remedy', ',', 'judgment', 'detinue', 'thing', ',', 'value', '.', 'value', 'public', 'office', ',', 'sold', ',', 'incapable', 'ascertained', '.', 'plain', 'case', 'mandamus', ',', 'either', 'deliver', 'commission', 'copy', 'record', '.', 'enable', 'court', 'issue', 'mandamus', 'compel', 'delivery', 'commission', 'public', 'office', 'secretary', 'state', ',', 'must', 'shown', 'exercise', 'appellate', 'jurisdiction', ',', 'necessary', 'enable', 'exercise', 'appellate', 'jurisdiction', '.', 'essential', 'criterion', 'appellate', 'jurisdiction', 'revises', 'corrects', 'proceedings', 'cause', 'already', 'instituted', ',', 'create', 'cause', '.', 'authority', 'given', 'supreme', 'court', 'act', 'establishing', 'judicial', 'system', 'united', 'states', 'issue', 'writs', 'mandamus', 'public', 'officers', 'appears', 'warranted', 'constitution', '.', 'emphatically', 'duty', 'judicial', 'department', 'say', 'law', '.', 'apply', 'rule', 'particular', 'cases', 'must', ',', 'necessity', ',', 'expound', 'interpret', 'rule', '.', 'two', 'laws', 'conflict', ',', 'court', 'must', 'decide', 'operation', '.', 'courts', 'regard', 'constitution', ',', 'constitution', 'superior', 'ordinary', 'act', 'legislature', ',', 'constitution', ',', 'ordinary', 'act', ',', 'must', 'govern', 'case', 'apply', '.', 'december', 'term', ',', '1801', ',', 'william', 'marbury', ',', 'dennis', 'ramsay', ',', 'robert', 'townsend', 'hooe', ',', 'william', 'harper', ',', 'counsel', ',', 'page', '5', 'u.', 's.', '138', 'severally', 'moved', 'court', 'rule', 'james', 'madison', ',', 'secretary', 'state', 'united', 'states', ',', 'show', 'cause', 'mandamus', 'issue', 'commanding', 'cause', 'delivered', 'respectively', 'several', 'commissions', 'justices', 'peace', 'district', 'columbia', '.', 'motion', 'supported', 'affidavits', 'following', 'facts', ':', 'notice', 'motion', 'given', 'mr.', 'madison', ';', 'mr.', 'adams', ',', 'late', 'president', 'united', 'states', ',', 'nominated', 'applicants', 'senate', 'advice', 'consent', 'appointed', 'justices', 'peace', 'district', 'columbia', ';', 'senate', 'advised', 'consented', 'appointments', ';', 'commissions', 'due', 'form', 'signed', 'said', 'president', 'appointing', 'justices', ',', '&', 'c.', ',', 'seal', 'united', 'states', 'due', 'form', 'affixed', 'said', 'commissions', 'secretary', 'state', ';', 'applicants', 'requested', 'mr.', 'madison', 'deliver', 'said', 'commissions', ',', 'complied', 'request', ';', 'said', 'commissions', 'withheld', ';', 'applicants', 'made', 'application', 'mr.', 'madison', 'secretary', 'state', 'united', 'states', 'office', ',', 'information', 'whether', 'commissions', 'signed', 'sealed', 'aforesaid', ';', 'explicit', 'satisfactory', 'information', 'given', 'answer', 'inquiry', ',', 'either', 'secretary', 'state', 'officer', 'department', 'state', ';', 'application', 'made', 'secretary', 'senate', 'certificate', 'nomination', 'applicants', ',', 'advice', 'consent', 'senate', ',', 'declined', 'giving', 'certificate', ';', 'whereupon', 'rule', 'made', 'show', 'cause', 'fourth', 'day', 'term', '.', 'rule', 'duly', 'served', ',', 'page', '5', 'u.', 's.', '139', 'mr.', 'jacob', 'wagner', 'mr.', 'daniel', 'brent', ',', 'summoned', 'attend', 'court', 'required', 'give', 'evidence', ',', 'objected', 'sworn', ',', 'alleging', 'clerks', 'department', 'state', ',', 'bound', 'disclose', 'facts', 'relating', 'business', 'transactions', 'office', '.', 'court', 'ordered', 'witnesses', 'sworn', ',', 'answers', 'taken', 'writing', ',', 'informed', ',', 'questions', 'asked', ',', 'might', 'state', 'objections', 'answering', 'particular', 'question', ',', '.', 'mr.', 'lincoln', ',', 'acting', 'secretary', 'state', ',', 'circumstances', 'stated', 'affidavits', 'occurred', ',', 'called', 'upon', 'give', 'testimony', '.', 'objected', 'answering', '.', 'questions', 'put', 'writing', '.', 'court', 'said', 'nothing', 'confidential', 'required', 'disclosed', '.', ',', 'obliged', 'answer', ',', 'thought', 'anything', 'communicated', 'confidentially', ',', 'bound', 'disclose', ',', 'obliged', 'state', 'anything', 'would', 'criminate', '.', 'questions', 'argued', 'counsel', 'relators', ',', '1.', 'whether', 'supreme', 'court', 'award', 'writ', 'mandamus', 'case', '.', '2.', 'whether', 'lie', 'secretary', 'state', ',', 'case', 'whatever', '.', '3.', 'whether', ',', 'present', 'case', ',', 'court', 'may', 'award', 'mandamus', 'james', 'madison', ',', 'secretary', 'state', '.', 'page', '5', 'u.', 's.', '153']\n"
     ]
    }
   ],
   "source": [
    "print(no_stops)"
   ]
  },
  {
   "cell_type": "code",
   "execution_count": 10,
   "metadata": {},
   "outputs": [
    {
     "name": "stderr",
     "output_type": "stream",
     "text": [
      "[nltk_data] Downloading package punkt to\n",
      "[nltk_data]     C:\\Users\\jenni\\AppData\\Roaming\\nltk_data...\n",
      "[nltk_data]   Unzipping tokenizers\\punkt.zip.\n"
     ]
    },
    {
     "data": {
      "text/plain": [
       "True"
      ]
     },
     "execution_count": 10,
     "metadata": {},
     "output_type": "execute_result"
    }
   ],
   "source": [
    "nltk.download('punkt')"
   ]
  },
  {
   "cell_type": "code",
   "execution_count": 11,
   "metadata": {},
   "outputs": [
    {
     "name": "stderr",
     "output_type": "stream",
     "text": [
      "[nltk_data] Downloading package stopwords to\n",
      "[nltk_data]     C:\\Users\\jenni\\AppData\\Roaming\\nltk_data...\n",
      "[nltk_data]   Unzipping corpora\\stopwords.zip.\n"
     ]
    },
    {
     "data": {
      "text/plain": [
       "True"
      ]
     },
     "execution_count": 11,
     "metadata": {},
     "output_type": "execute_result"
    }
   ],
   "source": [
    "nltk.download('stopwords')"
   ]
  },
  {
   "cell_type": "code",
   "execution_count": 12,
   "metadata": {},
   "outputs": [
    {
     "name": "stderr",
     "output_type": "stream",
     "text": [
      "[nltk_data] Downloading package wordnet to\n",
      "[nltk_data]     C:\\Users\\jenni\\AppData\\Roaming\\nltk_data...\n",
      "[nltk_data]   Package wordnet is already up-to-date!\n"
     ]
    },
    {
     "data": {
      "text/plain": [
       "True"
      ]
     },
     "execution_count": 12,
     "metadata": {},
     "output_type": "execute_result"
    }
   ],
   "source": [
    "nltk.download('wordnet')"
   ]
  },
  {
   "cell_type": "code",
   "execution_count": 13,
   "metadata": {},
   "outputs": [
    {
     "name": "stdout",
     "output_type": "stream",
     "text": [
      "Counter({',': 91, '.': 38, 'state': 20, 'secretary': 14, 'must': 10, ';': 10, 'court': 9, 'united': 8, 'states': 8, 'commission': 8, 'mr.': 8, 'department': 7, 'act': 7, 'commissions': 7, 'mandamus': 7, 'upon': 6, 'office': 6, 'give': 5, 'confidential': 5, 'officer': 5, 'given': 5, 'public': 5, 'whether': 5, 'right': 5, 'remedy': 5, 'case': 5, 'cause': 5, 'rule': 5, 'madison': 5, 'said': 5, 'may': 4, 'called': 4, 'questions': 4, 'power': 4, 'sealed': 4, 'signed': 4, 'president': 4, 'legal': 4, 'deliver': 4, 'made': 4, 'constitution': 4, 'applicants': 4, 'senate': 4, 'clerks': 3, 'transactions': 3, 'testimony': 3, 'directed': 3, 'sworn': 3, 'executive': 3, 'appointment': 3, 'required': 3, 'person': 3, 'recorded': 3, 'cases': 3, 'officers': 3, 'law': 3, 'duty': 3, 'laws': 3, 'peace': 3, 'district': 3, 'columbia': 3, 'issue': 3, 'appellate': 3, 'jurisdiction': 3, 'page': 3, '5': 3, 'u.': 3, 's.': 3, 'justices': 3, 'evidence': 2, 'character': 2, 'occurred': 2, 'circumstances': 2, 'objections': 2, 'point': 2, 'time': 2, 'taken': 2, 'constitutional': 2, 'exercised': 2, 'last': 2, 'signature': 2, 'necessary': 2, 'delivered': 2, 'record': 2, 'inserted': 2, 'nothing': 2, 'clear': 2, 'specific': 2, 'individual': 2, 'country': 2, 'appointed': 2, 'marbury': 2, 'seal': 2, 'affixed': 2, 'plain': 2, 'proper': 2, 'writ': 2, 'withheld': 2, 'detinue': 2, 'value': 2, 'either': 2, 'enable': 2, 'exercise': 2, 'supreme': 2, 'judicial': 2, 'apply': 2, 'particular': 2, 'ordinary': 2, 'term': 2, 'william': 2, 'counsel': 2, 'james': 2, 'show': 2, 'motion': 2, 'affidavits': 2, 'facts': 2, 'advice': 2, 'consent': 2, 'due': 2, 'form': 2, 'application': 2, 'information': 2, 'answer': 2, 'certificate': 2, 'objected': 2, 'bound': 2, 'disclose': 2, 'writing': 2, 'answering': 2, 'obliged': 2, 'anything': 2, 'award': 2, 'witness': 1, 'nature': 1, 'subject': 1, 'matters': 1, 'removable': 1, 'cease': 1, 'possessing': 1, 'performed': 1, 'livery': 1, 'validity': 1, 'executed': 1, 'purpose': 1, 'transmitted': 1, 'party': 1, 'orders': 1, 'therefore': 1, 'order': 1, 'book': 1, 'heads': 1, 'departments': 1, 'government': 1, 'political': 1, 'merely': 1, 'execute': 1, 'rather': 1, 'possesses': 1, 'discretion': 1, 'perfectly': 1, 'acts': 1, 'politically': 1, 'examinable': 1, 'assigned': 1, 'rights': 1, 'depend': 1, 'performance': 1, 'seems': 1, 'equally': 1, 'considers': 1, 'injured': 1, 'resort': 1, 'signing': 1, 'justice': 1, 'county': 1, 'washington': 1, 'thereto': 1, 'conclusive': 1, 'verity': 1, 'completion': 1, 'conferred': 1, 'space': 1, 'five': 1, 'years': 1, 'consequent': 1, 'refusal': 1, 'violation': 1, 'afford': 1, 'render': 1, 'one': 1, 'principles': 1, 'applying': 1, 'without': 1, 'entitled': 1, 'action': 1, 'refuses': 1, 'judgment': 1, 'thing': 1, 'sold': 1, 'incapable': 1, 'ascertained': 1, 'copy': 1, 'compel': 1, 'delivery': 1, 'shown': 1, 'essential': 1, 'criterion': 1, 'revises': 1, 'corrects': 1, 'proceedings': 1, 'already': 1, 'instituted': 1, 'create': 1, 'authority': 1, 'establishing': 1, 'system': 1, 'writs': 1, 'appears': 1, 'warranted': 1, 'emphatically': 1, 'say': 1, 'necessity': 1, 'expound': 1, 'interpret': 1, 'two': 1, 'conflict': 1, 'decide': 1, 'operation': 1, 'courts': 1, 'regard': 1, 'superior': 1, 'legislature': 1, 'govern': 1, 'december': 1, '1801': 1, 'dennis': 1, 'ramsay': 1, 'robert': 1, 'townsend': 1, 'hooe': 1, 'harper': 1, '138': 1, 'severally': 1, 'moved': 1, 'commanding': 1, 'respectively': 1, 'several': 1, 'supported': 1, 'following': 1, ':': 1, 'notice': 1, 'adams': 1, 'late': 1, 'nominated': 1, 'advised': 1, 'consented': 1, 'appointments': 1, 'appointing': 1, '&': 1, 'c.': 1, 'requested': 1, 'complied': 1, 'request': 1, 'aforesaid': 1, 'explicit': 1, 'satisfactory': 1, 'inquiry': 1, 'nomination': 1, 'declined': 1, 'giving': 1, 'whereupon': 1, 'fourth': 1, 'day': 1, 'duly': 1, 'served': 1, '139': 1, 'jacob': 1, 'wagner': 1, 'daniel': 1, 'brent': 1, 'summoned': 1, 'attend': 1, 'alleging': 1, 'relating': 1, 'business': 1, 'ordered': 1, 'witnesses': 1, 'answers': 1, 'informed': 1, 'asked': 1, 'might': 1, 'question': 1, 'lincoln': 1, 'acting': 1, 'stated': 1, 'put': 1, 'disclosed': 1, 'thought': 1, 'communicated': 1, 'confidentially': 1, 'would': 1, 'criminate': 1, 'argued': 1, 'relators': 1, '1.': 1, '2.': 1, 'lie': 1, 'whatever': 1, '3.': 1, 'present': 1, '153': 1})\n"
     ]
    }
   ],
   "source": [
    "Marbury = Counter(no_stops)\n",
    "print(Marbury)"
   ]
  },
  {
   "cell_type": "code",
   "execution_count": 14,
   "metadata": {},
   "outputs": [],
   "source": [
    "def create_features_dictionary(document_tokens):\n",
    "  features_dictionary = {}\n",
    "  index = 0\n",
    "  for token in document_tokens:\n",
    "    if token not in features_dictionary:\n",
    "      features_dictionary[token] = index\n",
    "      index += 1\n",
    "  return features_dictionary"
   ]
  },
  {
   "cell_type": "code",
   "execution_count": 15,
   "metadata": {},
   "outputs": [],
   "source": [
    "dictionary = create_features_dictionary(no_stops)"
   ]
  },
  {
   "cell_type": "code",
   "execution_count": 16,
   "metadata": {},
   "outputs": [
    {
     "name": "stdout",
     "output_type": "stream",
     "text": [
      "{'clerks': 0, 'department': 1, 'state': 2, 'united': 3, 'states': 4, 'may': 5, 'called': 6, 'upon': 7, 'give': 8, 'evidence': 9, 'transactions': 10, 'confidential': 11, 'character': 12, '.': 13, 'secretary': 14, 'witness': 15, 'nature': 16, 'occurred': 17, 'testimony': 18, 'circumstances': 19, 'directed': 20, 'sworn': 21, ',': 22, 'subject': 23, 'objections': 24, 'questions': 25, 'matters': 26, 'point': 27, 'time': 28, 'must': 29, 'taken': 30, 'power': 31, 'executive': 32, 'officer': 33, 'removable': 34, 'cease': 35, 'constitutional': 36, 'appointment': 37, 'exercised': 38, 'last': 39, 'act': 40, 'required': 41, 'person': 42, 'possessing': 43, 'performed': 44, 'signature': 45, 'commission': 46, 'livery': 47, 'necessary': 48, 'validity': 49, 'delivered': 50, 'executed': 51, 'given': 52, 'purpose': 53, 'sealed': 54, 'recorded': 55, 'transmitted': 56, 'party': 57, 'cases': 58, 'commissions': 59, 'public': 60, 'officers': 61, 'law': 62, 'orders': 63, 'record': 64, 'therefore': 65, 'signed': 66, 'order': 67, 'whether': 68, 'inserted': 69, 'book': 70, 'heads': 71, 'departments': 72, 'government': 73, 'political': 74, 'merely': 75, 'execute': 76, 'president': 77, 'rather': 78, 'possesses': 79, 'legal': 80, 'discretion': 81, 'nothing': 82, 'perfectly': 83, 'clear': 84, 'acts': 85, 'politically': 86, 'examinable': 87, 'specific': 88, 'duty': 89, 'assigned': 90, 'individual': 91, 'rights': 92, 'depend': 93, 'performance': 94, 'seems': 95, 'equally': 96, 'considers': 97, 'injured': 98, 'right': 99, 'resort': 100, 'laws': 101, 'country': 102, 'remedy': 103, 'signing': 104, 'appointed': 105, 'mr.': 106, 'marbury': 107, 'justice': 108, 'peace': 109, 'county': 110, 'washington': 111, 'district': 112, 'columbia': 113, 'seal': 114, 'affixed': 115, 'thereto': 116, 'conclusive': 117, 'verity': 118, 'completion': 119, ';': 120, 'conferred': 121, 'office': 122, 'space': 123, 'five': 124, 'years': 125, 'consequent': 126, 'refusal': 127, 'deliver': 128, 'plain': 129, 'violation': 130, 'afford': 131, 'render': 132, 'mandamus': 133, 'proper': 134, 'one': 135, 'principles': 136, 'writ': 137, 'applying': 138, 'without': 139, 'made': 140, 'withheld': 141, 'entitled': 142, 'action': 143, 'detinue': 144, 'refuses': 145, 'judgment': 146, 'thing': 147, 'value': 148, 'sold': 149, 'incapable': 150, 'ascertained': 151, 'case': 152, 'either': 153, 'copy': 154, 'enable': 155, 'court': 156, 'issue': 157, 'compel': 158, 'delivery': 159, 'shown': 160, 'exercise': 161, 'appellate': 162, 'jurisdiction': 163, 'essential': 164, 'criterion': 165, 'revises': 166, 'corrects': 167, 'proceedings': 168, 'cause': 169, 'already': 170, 'instituted': 171, 'create': 172, 'authority': 173, 'supreme': 174, 'establishing': 175, 'judicial': 176, 'system': 177, 'writs': 178, 'appears': 179, 'warranted': 180, 'constitution': 181, 'emphatically': 182, 'say': 183, 'apply': 184, 'rule': 185, 'particular': 186, 'necessity': 187, 'expound': 188, 'interpret': 189, 'two': 190, 'conflict': 191, 'decide': 192, 'operation': 193, 'courts': 194, 'regard': 195, 'superior': 196, 'ordinary': 197, 'legislature': 198, 'govern': 199, 'december': 200, 'term': 201, '1801': 202, 'william': 203, 'dennis': 204, 'ramsay': 205, 'robert': 206, 'townsend': 207, 'hooe': 208, 'harper': 209, 'counsel': 210, 'page': 211, '5': 212, 'u.': 213, 's.': 214, '138': 215, 'severally': 216, 'moved': 217, 'james': 218, 'madison': 219, 'show': 220, 'commanding': 221, 'respectively': 222, 'several': 223, 'justices': 224, 'motion': 225, 'supported': 226, 'affidavits': 227, 'following': 228, 'facts': 229, ':': 230, 'notice': 231, 'adams': 232, 'late': 233, 'nominated': 234, 'applicants': 235, 'senate': 236, 'advice': 237, 'consent': 238, 'advised': 239, 'consented': 240, 'appointments': 241, 'due': 242, 'form': 243, 'said': 244, 'appointing': 245, '&': 246, 'c.': 247, 'requested': 248, 'complied': 249, 'request': 250, 'application': 251, 'information': 252, 'aforesaid': 253, 'explicit': 254, 'satisfactory': 255, 'answer': 256, 'inquiry': 257, 'certificate': 258, 'nomination': 259, 'declined': 260, 'giving': 261, 'whereupon': 262, 'fourth': 263, 'day': 264, 'duly': 265, 'served': 266, '139': 267, 'jacob': 268, 'wagner': 269, 'daniel': 270, 'brent': 271, 'summoned': 272, 'attend': 273, 'objected': 274, 'alleging': 275, 'bound': 276, 'disclose': 277, 'relating': 278, 'business': 279, 'ordered': 280, 'witnesses': 281, 'answers': 282, 'writing': 283, 'informed': 284, 'asked': 285, 'might': 286, 'answering': 287, 'question': 288, 'lincoln': 289, 'acting': 290, 'stated': 291, 'put': 292, 'disclosed': 293, 'obliged': 294, 'thought': 295, 'anything': 296, 'communicated': 297, 'confidentially': 298, 'would': 299, 'criminate': 300, 'argued': 301, 'relators': 302, '1.': 303, 'award': 304, '2.': 305, 'lie': 306, 'whatever': 307, '3.': 308, 'present': 309, '153': 310}\n"
     ]
    }
   ],
   "source": [
    "print(dictionary)"
   ]
  },
  {
   "cell_type": "code",
   "execution_count": 17,
   "metadata": {},
   "outputs": [],
   "source": [
    "from sklearn.feature_extraction.text import CountVectorizer"
   ]
  },
  {
   "cell_type": "code",
   "execution_count": 18,
   "metadata": {},
   "outputs": [],
   "source": [
    "bow_vectorizer = CountVectorizer()"
   ]
  },
  {
   "cell_type": "code",
   "execution_count": 19,
   "metadata": {},
   "outputs": [],
   "source": [
    "training_vectors = bow_vectorizer.fit_transform(no_stops)"
   ]
  },
  {
   "cell_type": "code",
   "execution_count": 20,
   "metadata": {
    "scrolled": true
   },
   "outputs": [
    {
     "name": "stdout",
     "output_type": "stream",
     "text": [
      "  (0, 51)\t1\n",
      "  (1, 90)\t1\n",
      "  (2, 255)\t1\n",
      "  (3, 277)\t1\n",
      "  (4, 257)\t1\n",
      "  (5, 162)\t1\n",
      "  (6, 42)\t1\n",
      "  (7, 278)\t1\n",
      "  (8, 123)\t1\n",
      "  (9, 109)\t1\n",
      "  (10, 274)\t1\n",
      "  (11, 90)\t1\n",
      "  (12, 62)\t1\n",
      "  (13, 48)\t1\n",
      "  (15, 241)\t1\n",
      "  (16, 255)\t1\n",
      "  (17, 42)\t1\n",
      "  (18, 278)\t1\n",
      "  (19, 292)\t1\n",
      "  (20, 255)\t1\n",
      "  (21, 274)\t1\n",
      "  (22, 62)\t1\n",
      "  (23, 169)\t1\n",
      "  (24, 162)\t1\n",
      "  (25, 179)\t1\n",
      "  :\t:\n",
      "  (727, 262)\t1\n",
      "  (728, 76)\t1\n",
      "  (729, 37)\t1\n",
      "  (730, 295)\t1\n",
      "  (731, 159)\t1\n",
      "  (732, 43)\t1\n",
      "  (735, 288)\t1\n",
      "  (736, 154)\t1\n",
      "  (737, 241)\t1\n",
      "  (738, 255)\t1\n",
      "  (740, 43)\t1\n",
      "  (741, 286)\t1\n",
      "  (744, 288)\t1\n",
      "  (746, 204)\t1\n",
      "  (747, 43)\t1\n",
      "  (749, 76)\t1\n",
      "  (750, 162)\t1\n",
      "  (751, 37)\t1\n",
      "  (752, 159)\t1\n",
      "  (753, 142)\t1\n",
      "  (754, 158)\t1\n",
      "  (756, 241)\t1\n",
      "  (757, 255)\t1\n",
      "  (759, 189)\t1\n",
      "  (763, 2)\t1\n"
     ]
    }
   ],
   "source": [
    "print(training_vectors)"
   ]
  },
  {
   "cell_type": "code",
   "execution_count": 21,
   "metadata": {},
   "outputs": [
    {
     "name": "stdout",
     "output_type": "stream",
     "text": [
      "[(',', 91), ('.', 38), ('state', 20), ('secretary', 14), ('must', 10), (';', 10), ('court', 9), ('united', 8), ('states', 8), ('commission', 8)]\n"
     ]
    }
   ],
   "source": [
    "bag_of_words = Counter(no_stops)\n",
    "most_common_10 = bag_of_words.most_common(10)\n",
    "print(most_common_10)"
   ]
  }
 ],
 "metadata": {
  "kernelspec": {
   "display_name": "Python 3",
   "language": "python",
   "name": "python3"
  },
  "language_info": {
   "codemirror_mode": {
    "name": "ipython",
    "version": 3
   },
   "file_extension": ".py",
   "mimetype": "text/x-python",
   "name": "python",
   "nbconvert_exporter": "python",
   "pygments_lexer": "ipython3",
   "version": "3.8.5"
  }
 },
 "nbformat": 4,
 "nbformat_minor": 4
}
